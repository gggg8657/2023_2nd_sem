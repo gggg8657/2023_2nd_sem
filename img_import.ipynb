{
 "cells": [
  {
   "cell_type": "code",
   "execution_count": null,
   "metadata": {},
   "outputs": [],
   "source": [
    "from tensorflow import keras\n",
    "from tensorflow.keras import layers\n",
    "import os\n",
    "import tensorflow as tf\n",
    "import numpy as np\n",
    "import imageio\n",
    "from PIL import Image\n",
    "import glob\n",
    "from collections import defaultdict\n"
   ]
  },
  {
   "cell_type": "code",
   "execution_count": null,
   "metadata": {},
   "outputs": [],
   "source": [
    "batch_size =16\n",
    "num_channels = 1\n",
    "num_classes = 17\n",
    "image_size = 180\n",
    "latent_dim = 128"
   ]
  },
  {
   "cell_type": "code",
   "execution_count": null,
   "metadata": {},
   "outputs": [],
   "source": [
    "my_dir = os.getcwd()\n",
    "train_dir=os.path.join(my_dir, '//image')\n",
    "val_dir=os.path.join(my_dir, '//image')"
   ]
  },
  {
   "cell_type": "code",
   "execution_count": null,
   "metadata": {},
   "outputs": [],
   "source": [
    "print(my_dir)\n",
    "print(train_dir+\"\\t||\\t\"+val_dir)"
   ]
  },
  {
   "cell_type": "code",
   "execution_count": null,
   "metadata": {},
   "outputs": [],
   "source": [
    "image_list = []\n",
    "\n",
    "def find_image_files_in_directory(directory_path):\n",
    "    image_extensions = [\"jpeg\"]\n",
    "    image_files = []\n",
    "    label_lists =[]    \n",
    "    for root, dirs, files in os.walk(directory_path):\n",
    "        for file in files:\n",
    "            \n",
    "            if file.lower().endswith(tuple(image_extensions)):\n",
    "                tmp = root.split(\"/\")\n",
    "                label_lists.append(tmp[-1])\n",
    "                image_files.append(os.path.join(root, file))\n",
    "                \n",
    "\n",
    "    return image_files, label_lists\n",
    "\n",
    "#디렉 순회\n",
    "directory_path = my_dir\n",
    "image_files, label_lists = find_image_files_in_directory(directory_path)\n",
    "\n",
    "\n",
    "\n",
    "#print(glob.glob('*.jpeg'))\n",
    "\n",
    "'''\n",
    "for filename in glob.glob(train_dir+'/*/*.jpeg'):\n",
    "    im = image.open(filename)\n",
    "    image_list.append(im)\n",
    "'''\n",
    "\n"
   ]
  },
  {
   "cell_type": "code",
   "execution_count": null,
   "metadata": {},
   "outputs": [],
   "source": [
    "np_img_list=[]\n",
    "# 이미지 파일 리스트 출력 및 이미지 Into list + image resize\n",
    "for image_file in image_files:\n",
    "    print(image_file)\n",
    "    img = Image.open(image_file).convert(\"L\")\n",
    "    im = img.resize((180,180))\n",
    "    image_list.append(im)\n",
    "    np_img_list.append(np.asarray(im))\n",
    "    "
   ]
  },
  {
   "cell_type": "code",
   "execution_count": null,
   "metadata": {},
   "outputs": [],
   "source": [
    "numpydata = np.asarray(image_list)"
   ]
  },
  {
   "cell_type": "code",
   "execution_count": null,
   "metadata": {},
   "outputs": [],
   "source": [
    "np_images = np.array(image_list)"
   ]
  },
  {
   "cell_type": "markdown",
   "metadata": {},
   "source": [
    "#### label_lists <- 라벨 리스트 저장\n",
    "#### np_img_list <- 28,28,3 이미지 리스트 저장"
   ]
  },
  {
   "cell_type": "code",
   "execution_count": null,
   "metadata": {},
   "outputs": [],
   "source": [
    "for iter in range(3169):\n",
    "    np_img_list[iter] = np_img_list[iter].astype('float32')\n",
    "    x = np_img_list[iter]\n",
    "    np_img_list[iter] = (x-np.min(x))/(np.max(x)-np.min(x))"
   ]
  },
  {
   "cell_type": "code",
   "execution_count": null,
   "metadata": {},
   "outputs": [],
   "source": []
  },
  {
   "cell_type": "code",
   "execution_count": null,
   "metadata": {},
   "outputs": [],
   "source": [
    "labels_list\n",
    "\n",
    "data = labels_list\n",
    "dic = defaultdict(int)\n",
    "counter = 0\n",
    "for val in data:\n",
    "    if not dic[val]: #if its a new entry add it to the dict and increase the counter\n",
    "        print(val, counter)\n",
    "        dic[val] = counter\n",
    "        counter+=1"
   ]
  },
  {
   "cell_type": "code",
   "execution_count": null,
   "metadata": {},
   "outputs": [],
   "source": [
    "labels = [dic[x] for x in data]"
   ]
  },
  {
   "cell_type": "code",
   "execution_count": null,
   "metadata": {},
   "outputs": [],
   "source": [
    "print(tf.keras.utils.to_categorical(labels, num_classes=17))"
   ]
  },
  {
   "cell_type": "code",
   "execution_count": null,
   "metadata": {},
   "outputs": [],
   "source": [
    "all_drawings = np.reshape(np_img_list, (-1,180,180,1))\n",
    "all_labels = keras.utils.to_categorical(labels, num_classes =17)\n",
    "\n",
    "dataset = tf.data.Dataset.from_tensor_slices((all_drawings,all_labels))\n",
    "dataset = dataset.shuffle(buffer_size=1024).batch(9)"
   ]
  },
  {
   "cell_type": "code",
   "execution_count": null,
   "metadata": {},
   "outputs": [],
   "source": [
    "print(f\"Shape of training images: {all_drawings.shape}\")\n",
    "print(f\"Shape of training labels: {all_labels.shape}\")\n"
   ]
  },
  {
   "cell_type": "code",
   "execution_count": null,
   "metadata": {},
   "outputs": [],
   "source": [
    "all_labels[0]"
   ]
  },
  {
   "cell_type": "code",
   "execution_count": null,
   "metadata": {},
   "outputs": [],
   "source": [
    "generator_in_channels = latent_dim + num_classes\n",
    "discriminator_in_channels = num_channels + num_classes\n",
    "print(generator_in_channels, discriminator_in_channels)"
   ]
  }
 ],
 "metadata": {
  "kernelspec": {
   "display_name": "ML",
   "language": "python",
   "name": "python3"
  },
  "language_info": {
   "codemirror_mode": {
    "name": "ipython",
    "version": 3
   },
   "file_extension": ".py",
   "mimetype": "text/x-python",
   "name": "python",
   "nbconvert_exporter": "python",
   "pygments_lexer": "ipython3",
   "version": "3.8.13"
  },
  "orig_nbformat": 4
 },
 "nbformat": 4,
 "nbformat_minor": 2
}
